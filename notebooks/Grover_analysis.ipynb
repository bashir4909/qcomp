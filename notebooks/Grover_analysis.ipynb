{
 "cells": [
  {
   "cell_type": "code",
   "execution_count": 11,
   "metadata": {},
   "outputs": [],
   "source": [
    "import qcomp as Q\n",
    "from qcomp.algorithms import Grover"
   ]
  },
  {
   "cell_type": "markdown",
   "metadata": {},
   "source": [
    "# Check accuracy of Grover"
   ]
  },
  {
   "cell_type": "code",
   "execution_count": 94,
   "metadata": {},
   "outputs": [],
   "source": [
    "import random\n",
    "def run_grover_accuracy(nb):\n",
    "    with open('grover_runs.txt', 'a') as fp:\n",
    "        gr = Grover(nb)\n",
    "        orc = \"\".join(['0' if random.random()>0.5 else '1' for _ in range(nb)])\n",
    "        gr.def_oracle(orc)\n",
    "        fp.write(\"ORACLE: \"+orc)\n",
    "        freg = gr.run_iteration()\n",
    "        fp.write(\"\\nFINAL REGISTER\\n\")\n",
    "        ans = \"\"\n",
    "        for i in range(nb):\n",
    "            qbstr, qb = freg.get_qbit(i)\n",
    "            fp.write(qbstr + '\\n')\n",
    "            ans += '0' if qb.state[0]>0.5 else '1'\n",
    "        fp.write(\"ANSWER: \"+ans)\n",
    "        if ans != orc:\n",
    "            print(\"wrong estimation, writing to log file\")\n",
    "            fp.write(\"\\nFAILED!!! FAILED!!!\\n\")\n",
    "        else:\n",
    "            fp.write(\"\\nPASSED\\n\")\n",
    "        fp.write(\"-\"*80+\"\\n\\n\")\n",
    "        \n",
    "### uncomment the loop to run grover and write to log file\n",
    "\n",
    "# for _ in range(200):\n",
    "#     nbits = random.randint(3,8)\n",
    "#     run_grover_accuracy(nbits)"
   ]
  },
  {
   "cell_type": "markdown",
   "metadata": {},
   "source": [
    "# Performance analysis"
   ]
  },
  {
   "cell_type": "code",
   "execution_count": 95,
   "metadata": {},
   "outputs": [],
   "source": [
    "def run_grover_perf(nb):\n",
    "    gr = Grover(nb)\n",
    "    orc = \"\".join(['0' if random.random()>0.5 else '1' for _ in range(nb)])\n",
    "    gr.def_oracle(orc)\n",
    "    freg = gr.run_iteration()"
   ]
  },
  {
   "cell_type": "code",
   "execution_count": 96,
   "metadata": {},
   "outputs": [],
   "source": [
    "import timeit\n",
    "\n",
    "ts = []\n",
    "for nb in range(3,10):\n",
    "    t = timeit.timeit(\"run_grover_perf(\" +str(nb)+ \")\", number=100, setup='from __main__ import run_grover_perf')\n",
    "    ts.append(t)"
   ]
  },
  {
   "cell_type": "code",
   "execution_count": 97,
   "metadata": {},
   "outputs": [
    {
     "data": {
      "text/plain": [
       "[0.0829735891893506,\n",
       " 0.20154538517817855,\n",
       " 0.5204768721014261,\n",
       " 1.7375359060242772,\n",
       " 6.113220508210361,\n",
       " 25.1884895558469,\n",
       " 117.13969242898747]"
      ]
     },
     "execution_count": 97,
     "metadata": {},
     "output_type": "execute_result"
    }
   ],
   "source": [
    "ts"
   ]
  },
  {
   "cell_type": "code",
   "execution_count": 98,
   "metadata": {},
   "outputs": [
    {
     "name": "stdout",
     "output_type": "stream",
     "text": [
      "The line_profiler extension is already loaded. To reload it, use:\n",
      "  %reload_ext line_profiler\n"
     ]
    }
   ],
   "source": [
    "%load_ext line_profiler"
   ]
  },
  {
   "cell_type": "code",
   "execution_count": 100,
   "metadata": {},
   "outputs": [
    {
     "name": "stdout",
     "output_type": "stream",
     "text": [
      "\n",
      "*** Profile printout saved to text file 'grover_perf.txt'. \n"
     ]
    }
   ],
   "source": [
    "%lprun -T grover_perf.txt -f run_grover_perf run_grover_perf(9)"
   ]
  },
  {
   "cell_type": "code",
   "execution_count": 102,
   "metadata": {},
   "outputs": [
    {
     "name": "stdout",
     "output_type": "stream",
     "text": [
      "\n",
      "*** Profile printout saved to text file 'grover_initperf.txt'. \n"
     ]
    }
   ],
   "source": [
    "%lprun -T grover_initperf.txt -f Q.algorithms.Grover.__init__ run_grover_perf(9)"
   ]
  },
  {
   "cell_type": "code",
   "execution_count": null,
   "metadata": {},
   "outputs": [],
   "source": []
  }
 ],
 "metadata": {
  "kernelspec": {
   "display_name": "Python 3",
   "language": "python",
   "name": "python3"
  }
 },
 "nbformat": 4,
 "nbformat_minor": 2
}
