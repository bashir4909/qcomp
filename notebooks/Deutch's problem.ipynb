{
 "cells": [
  {
   "cell_type": "code",
   "execution_count": 4,
   "metadata": {},
   "outputs": [],
   "source": [
    "import qcomp as Q"
   ]
  },
  {
   "cell_type": "markdown",
   "metadata": {},
   "source": [
    "# Deutch's problem\n",
    "\n",
    "Reference: Quantum algorithms revisited, R Cleve et al https://arxiv.org/abs/quant-ph/9708016\n",
    "\n",
    "## problem statement\n",
    "\n",
    "Given single bit function f that returns {0,1}, on single run, determine whether it is balanced or constant?\n",
    "balanced: function will return equal number of 0s and 1s. Two versions\n",
    "\n",
    "1. $f(0)=0 & f(1)=1$\n",
    "2. $f(0)=1 & f(1)=0$\n",
    "\n",
    "constant: function will return always 0 or 1. There are two possibilities \n",
    "\n",
    "1. $f(0)=0 & f(1)=0$\n",
    "2. $f(1)=1 & f(1)=1$\n",
    "\n",
    "## solution\n",
    "\n",
    "Classically impossible, however, by using following quantum circuit it can be solved.\n",
    "\n",
    "![Q circuit](images/deutch200.png \"Deutch's solution, has HfH form\")\n",
    "\n",
    "Here, $U_f$ is unitary transformation matrix form of function. Upper qbit is the input, lower one is output. When lower is set to 0, after transformation it will be value of function. If lower bit is set to 1, its value will be $1+f(x) \\mod 2$ instead. The magic happens when input is $|0>(|0>-|1>)$ which turns into entangled (|0>+|1>)(|0>-|1>) after first Hadamar gate. After $U_f$ and second Hadamar gate is applied, first (input) bit will be 0 if $f$ is constant, 1 if $f$ is balanced! So that is first qbit we are interested.\n",
    "\n",
    "Note that we can not learn actual value of function in inputs, which is tradeoff being made. And it also explains uncertainty principle in some sense, by not knowing real value, we can learn about properties of function.\n",
    "\n",
    "### implementation\n",
    "\n",
    "$U_f$ can be prepared by using *cnot gate*"
   ]
  },
  {
   "cell_type": "code",
   "execution_count": 6,
   "metadata": {},
   "outputs": [],
   "source": [
    "# balanced function will be reversing input 0->1, 1->0\n",
    "# so we want this\n",
    "# 0 -> not ->  1  -> not -> 0\n",
    "#              |\n",
    "# 0 --------> not --------> 1\n",
    "# 1 -> not -> 0   -> not  ->1\n",
    "#             |   \n",
    "# 0---------> not --------->0\n",
    "from qcomp.gate import *\n",
    "# firt make not gates acting on first qubit\n",
    "Ub = (Q.gate.NOT*Q.gate.I) + (CNOT) + (Q.gate.NOT*Q.gate.I)\n",
    "\n",
    "# let us also make constant function that only produces 1\n",
    "# this is just making not gate act on 2nd register regardless of 1\n",
    "# not on 2nd qbit\n",
    "Uc = Q.gate.I * Q.gate.NOT"
   ]
  },
  {
   "cell_type": "markdown",
   "metadata": {},
   "source": [
    "Sanity check"
   ]
  },
  {
   "cell_type": "code",
   "execution_count": 7,
   "metadata": {},
   "outputs": [],
   "source": [
    "from qcomp.qbit import ZERO,ONE\n",
    "# inputs\n",
    "Q00 = Q.qregister.mk_reg([ZERO,ZERO])\n",
    "Q10 = Q.qregister.mk_reg([ONE,ZERO])"
   ]
  },
  {
   "cell_type": "code",
   "execution_count": 9,
   "metadata": {},
   "outputs": [
    {
     "name": "stdout",
     "output_type": "stream",
     "text": [
      "Ub on input 0 -> 0j|0> + (1+0j)|1>\n",
      "Ub on input 1 -> (1+0j)|0> + 0j|1>\n"
     ]
    }
   ],
   "source": [
    "# calculate outputs\n",
    "print(\"Ub on input 0 -> {}\".format(Ub.apply(Q00).get_qbit(1)[0]))\n",
    "print(\"Ub on input 1 -> {}\".format(Ub.apply(Q10).get_qbit(1)[0]))"
   ]
  },
  {
   "cell_type": "code",
   "execution_count": 10,
   "metadata": {},
   "outputs": [
    {
     "name": "stdout",
     "output_type": "stream",
     "text": [
      "Uc on input 0 -> 0j|0> + (1+0j)|1>\n",
      "Uc on input 1 -> 0j|0> + (1+0j)|1>\n"
     ]
    }
   ],
   "source": [
    "print(\"Uc on input 0 -> {}\".format(Uc.apply(Q00).get_qbit(1)[0]))\n",
    "print(\"Uc on input 1 -> {}\".format(Uc.apply(Q10).get_qbit(1)[0]))"
   ]
  },
  {
   "cell_type": "markdown",
   "metadata": {},
   "source": [
    "So, Ub produces state 1 in output bit when input is 0 and vice-versa as expected. And Uc produces state 1 all the time."
   ]
  },
  {
   "cell_type": "markdown",
   "metadata": {},
   "source": [
    "### Algorithm circuit"
   ]
  },
  {
   "cell_type": "code",
   "execution_count": 11,
   "metadata": {},
   "outputs": [],
   "source": [
    "HI = H*I"
   ]
  },
  {
   "cell_type": "code",
   "execution_count": 12,
   "metadata": {},
   "outputs": [],
   "source": [
    "deutch_Ub = HI+Ub+HI\n",
    "deutch_Uc = HI+Uc+HI"
   ]
  },
  {
   "cell_type": "code",
   "execution_count": 13,
   "metadata": {},
   "outputs": [
    {
     "data": {
      "text/plain": [
       "array([ 0.7071068+0.j, -0.7071068+0.j,  0.       +0.j,  0.       +0.j],\n",
       "      dtype=complex64)"
      ]
     },
     "execution_count": 13,
     "metadata": {},
     "output_type": "execute_result"
    }
   ],
   "source": [
    "# magical input is |0>-|1> which is defined as MINUS  in our code\n",
    "from qcomp.qbit import MINUS\n",
    "from qcomp.qregister import mk_reg\n",
    "deutch_in = mk_reg([ZERO,MINUS])\n",
    "deutch_in.state"
   ]
  },
  {
   "cell_type": "code",
   "execution_count": 14,
   "metadata": {},
   "outputs": [
    {
     "name": "stdout",
     "output_type": "stream",
     "text": [
      "Ub produces ('0j|0> + (1.0000001192092896+0j)|1>', <qcomp.qbit.QBit object at 0x7fe0d031bbe0>)\n",
      "Uc produces ('(1.0000001192092896+0j)|0> + 0j|1>', <qcomp.qbit.QBit object at 0x7fe0d031bcc0>)\n"
     ]
    }
   ],
   "source": [
    "# bit we are interested is upper one, ie 0th index\n",
    "print(\"Ub produces {}\".format(deutch_Ub.apply(deutch_in).get_qbit(0)))\n",
    "print(\"Uc produces {}\".format(deutch_Uc.apply(deutch_in).get_qbit(0)))"
   ]
  },
  {
   "cell_type": "markdown",
   "metadata": {},
   "source": [
    "constant function produced 0 state, balanced one produced 1 as promised"
   ]
  },
  {
   "cell_type": "markdown",
   "metadata": {},
   "source": [
    "## Generalized form\n",
    "\n",
    "More general form of is where function can take input of n bits ${0,1}^n$ and produce 1 or 0. Again question is same, but we are also promised that it is either balanced or constant. Solution has same form, Hadamard gates are applied to all input bits. If function is balanced amplitude of first n bits being 0, ie state $|00..0>(output)$ will be zero, otherwise non-zero (actually can be calculated).\\\\\n",
    "\n",
    "> **Unfortunately it is imposssible to construct arbitrary function unless you wanna get dirty with CNOT, NOT gates and make complicated circuits!!! Once MultiCNOT is implemented it should be relatively easy. On the other hand** *construct_unitary_F* **works fine for now**\n",
    "\n",
    "Let us make two 3bit input function, one balanced, one constant"
   ]
  },
  {
   "cell_type": "code",
   "execution_count": 15,
   "metadata": {},
   "outputs": [],
   "source": [
    "from qcomp.gate import construct_unitary_F\n",
    "\n",
    "balanced3 = [\"010\",\"110\",\"111\",\"001\"]\n",
    "constant3 = [] # always produce 0\n",
    "\n",
    "Ub3 = construct_unitary_F(balanced3)\n",
    "Uc3 = construct_unitary_F(constant3, in_size=3)"
   ]
  },
  {
   "cell_type": "markdown",
   "metadata": {},
   "source": [
    "Testing if function work properly"
   ]
  },
  {
   "cell_type": "code",
   "execution_count": 16,
   "metadata": {},
   "outputs": [],
   "source": [
    "Q0100 = mk_reg([ZERO,ONE,ZERO,ZERO])  # output->1\n",
    "Q1110 = mk_reg([ONE,ONE,ONE,ZERO])    # output->1\n",
    "Q0000 = mk_reg([ZERO,ZERO,ZERO,ZERO]) # output->0\n",
    "Q1100 = mk_reg([ONE,ONE,ZERO,ZERO])   # output->1\n",
    "Q1000 = mk_reg([ONE,ZERO,ZERO,ZERO])  # output->0"
   ]
  },
  {
   "cell_type": "code",
   "execution_count": 17,
   "metadata": {},
   "outputs": [
    {
     "name": "stdout",
     "output_type": "stream",
     "text": [
      "Ub3 on input 010 -> ('0j|0> + (1+0j)|1>', <qcomp.qbit.QBit object at 0x7fe0d032aac8>)\n",
      "Ub3 on input 111 -> ('0j|0> + (1+0j)|1>', <qcomp.qbit.QBit object at 0x7fe0d032add8>)\n",
      "Ub3 on input 000 -> ('(1+0j)|0> + 0j|1>', <qcomp.qbit.QBit object at 0x7fe0d032ad68>)\n",
      "Ub3 on input 110 -> ('0j|0> + (1+0j)|1>', <qcomp.qbit.QBit object at 0x7fe0d032acf8>)\n",
      "Ub3 on input 100 -> ('(1+0j)|0> + 0j|1>', <qcomp.qbit.QBit object at 0x7fe0d032ac88>)\n"
     ]
    }
   ],
   "source": [
    "# Note output bit is 3rd\n",
    "print(\"Ub3 on input 010 -> {}\".format(Ub3.apply(Q0100).get_qbit(3)))\n",
    "print(\"Ub3 on input 111 -> {}\".format(Ub3.apply(Q1110).get_qbit(3)))\n",
    "print(\"Ub3 on input 000 -> {}\".format(Ub3.apply(Q0000).get_qbit(3)))\n",
    "print(\"Ub3 on input 110 -> {}\".format(Ub3.apply(Q1100).get_qbit(3)))\n",
    "print(\"Ub3 on input 100 -> {}\".format(Ub3.apply(Q1000).get_qbit(3)))"
   ]
  },
  {
   "cell_type": "code",
   "execution_count": 18,
   "metadata": {},
   "outputs": [
    {
     "name": "stdout",
     "output_type": "stream",
     "text": [
      "Uc3 on input 010 -> ('(1+0j)|0> + 0j|1>', <qcomp.qbit.QBit object at 0x7fe0d032ac18>)\n",
      "Uc3 on input 111 -> ('(1+0j)|0> + 0j|1>', <qcomp.qbit.QBit object at 0x7fe0d032ab38>)\n",
      "Uc3 on input 000 -> ('(1+0j)|0> + 0j|1>', <qcomp.qbit.QBit object at 0x7fe0d032ae10>)\n",
      "Uc3 on input 110 -> ('(1+0j)|0> + 0j|1>', <qcomp.qbit.QBit object at 0x7fe0d032acc0>)\n",
      "Uc3 on input 100 -> ('(1+0j)|0> + 0j|1>', <qcomp.qbit.QBit object at 0x7fe0d032ae48>)\n"
     ]
    }
   ],
   "source": [
    "# constant function will always produce 0\n",
    "print(\"Uc3 on input 010 -> {}\".format(Uc3.apply(Q0100).get_qbit(3)))\n",
    "print(\"Uc3 on input 111 -> {}\".format(Uc3.apply(Q1110).get_qbit(3)))\n",
    "print(\"Uc3 on input 000 -> {}\".format(Uc3.apply(Q0000).get_qbit(3)))\n",
    "print(\"Uc3 on input 110 -> {}\".format(Uc3.apply(Q1100).get_qbit(3)))\n",
    "print(\"Uc3 on input 100 -> {}\".format(Uc3.apply(Q1000).get_qbit(3)))"
   ]
  },
  {
   "cell_type": "markdown",
   "metadata": {},
   "source": [
    "### Algorithm"
   ]
  },
  {
   "cell_type": "code",
   "execution_count": 19,
   "metadata": {},
   "outputs": [],
   "source": [
    "# 3 input, 1 output, we need 3 Hadamard one ID\n",
    "HHHI = H**3 * I"
   ]
  },
  {
   "cell_type": "code",
   "execution_count": 20,
   "metadata": {},
   "outputs": [],
   "source": [
    "deutch_Ub3 = HHHI+Ub3+HHHI\n",
    "deutch_Uc3 = HHHI+Uc3+HHHI"
   ]
  },
  {
   "cell_type": "code",
   "execution_count": 21,
   "metadata": {},
   "outputs": [],
   "source": [
    "deutch_in3 = mk_reg([ZERO,ZERO,ZERO,MINUS])"
   ]
  },
  {
   "cell_type": "markdown",
   "metadata": {},
   "source": [
    "Unfortunatly I have not implemented a method to get state of specific subset of bits. However, we are interested in amplitude of first 3 bits being 0, ie states $|0000>$ and $|0001>$. Therefore, we can determine by looking at first two coefficients of resulting register. "
   ]
  },
  {
   "cell_type": "code",
   "execution_count": 22,
   "metadata": {},
   "outputs": [
    {
     "name": "stdout",
     "output_type": "stream",
     "text": [
      "Result of constant function is \n",
      " 0.71+0.00j \t |0000> \n",
      "-0.71+0.00j \t |0001> \n",
      "0.00+0.00j \t |0010> \n",
      "0.00+0.00j \t |0011> \n",
      "0.00+0.00j \t |0100> \n",
      "0.00+0.00j \t |0101> \n",
      "0.00+0.00j \t |0110> \n",
      "0.00+0.00j \t |0111> \n",
      "-0.00+0.00j \t |1000> \n",
      "0.00+0.00j \t |1001> \n",
      "0.00+0.00j \t |1010> \n",
      "0.00+0.00j \t |1011> \n",
      "0.00+0.00j \t |1100> \n",
      "0.00+0.00j \t |1101> \n",
      "0.00+0.00j \t |1110> \n",
      "0.00+0.00j \t |1111> \n",
      " \n",
      "\n",
      "First two bases [ 0.7071068+0.j -0.7071068+0.j]\n"
     ]
    }
   ],
   "source": [
    "res_constant = deutch_Uc3.apply(deutch_in3)\n",
    "print(\"Result of constant function is \\n {} \\n\".format(res_constant))\n",
    "print(\"First two bases {}\".format(res_constant.state[:2]))"
   ]
  },
  {
   "cell_type": "code",
   "execution_count": 23,
   "metadata": {},
   "outputs": [
    {
     "name": "stdout",
     "output_type": "stream",
     "text": [
      "Result of balanced function is \n",
      " 0.00+0.00j \t |0000> \n",
      "0.00+0.00j \t |0001> \n",
      "0.00+0.00j \t |0010> \n",
      "0.00+0.00j \t |0011> \n",
      "0.35+0.00j \t |0100> \n",
      "-0.35+0.00j \t |0101> \n",
      "0.35+0.00j \t |0110> \n",
      "-0.35+0.00j \t |0111> \n",
      "0.00+0.00j \t |1000> \n",
      "0.00+0.00j \t |1001> \n",
      "0.00+0.00j \t |1010> \n",
      "0.00+0.00j \t |1011> \n",
      "-0.35+0.00j \t |1100> \n",
      "0.35+0.00j \t |1101> \n",
      "0.35+0.00j \t |1110> \n",
      "-0.35+0.00j \t |1111> \n",
      " \n",
      "\n",
      "First two bases [0.+0.j 0.+0.j]\n"
     ]
    }
   ],
   "source": [
    "res_balanced = deutch_Ub3.apply(deutch_in3)\n",
    "print(\"Result of balanced function is \\n {} \\n\".format(res_balanced))\n",
    "print(\"First two bases {}\".format(res_balanced.state[:2]))"
   ]
  },
  {
   "cell_type": "markdown",
   "metadata": {},
   "source": [
    "As promised, balanced function gave amplitude of 0!"
   ]
  },
  {
   "cell_type": "markdown",
   "metadata": {},
   "source": [
    "# Relevance to Grover's\n",
    "\n",
    "While Deutch's is rather peculiar algorithm and certainly not part of course, the idea of constructing unitary transformation matrix is shared in both. Since this one is much easier to make and nice playground for testing implementations"
   ]
  },
  {
   "cell_type": "code",
   "execution_count": null,
   "metadata": {},
   "outputs": [],
   "source": []
  }
 ],
 "metadata": {
  "kernelspec": {
   "display_name": "Python 3",
   "language": "python",
   "name": "python3"
  },
  "language_info": {
   "codemirror_mode": {
    "name": "ipython",
    "version": 3
   },
   "file_extension": ".py",
   "mimetype": "text/x-python",
   "name": "python",
   "nbconvert_exporter": "python",
   "pygments_lexer": "ipython3",
   "version": "3.4.9"
  }
 },
 "nbformat": 4,
 "nbformat_minor": 2
}
