{
 "cells": [
  {
   "cell_type": "markdown",
   "metadata": {},
   "source": [
    "# Quantum Fourier Transform"
   ]
  },
  {
   "cell_type": "markdown",
   "metadata": {},
   "source": [
    "Without getting into maths details, QFT algorithm of n qbits is made by applying Hadamard gate on each qbit with controlled phase shifts in between. The amount of phase shift is $\\pi,\\pi/2,\\pi/4,\\pi/8$ etc depending on \"distance\" between qbits.\n",
    "\n",
    "As concrete example 4qbit QFT is depicted as \n",
    "![QFT circuit](images/QFT400.png \"Quantum Fourier Transform of 4 Qbits\")\n",
    "\n",
    "Let us make that using gates we have"
   ]
  },
  {
   "cell_type": "code",
   "execution_count": 1,
   "metadata": {},
   "outputs": [],
   "source": [
    "from qcomp.qbit import *\n",
    "from qcomp.qregister import mk_reg\n",
    "from qcomp.gate import VChain, HChain, CPSGate, H, I"
   ]
  },
  {
   "cell_type": "markdown",
   "metadata": {},
   "source": [
    "We observe on every step there are bits that nothing is applied to. These are 'spectator bits'. Actually there is gate being applied to them, Identity gate. Firstly Hadamard gates in the diagram are constructed as"
   ]
  },
  {
   "cell_type": "code",
   "execution_count": 2,
   "metadata": {},
   "outputs": [],
   "source": [
    "i can have a go\n",
    "H0 = VChain([H] + [I]*3)\n",
    "H1 = VChain([I] + [H] + [I]*2)\n",
    "H2 = VChain([I]*2 + [H] + [I])\n",
    "H3 = VChain([I]*3 + [H])"
   ]
  },
  {
   "cell_type": "markdown",
   "metadata": {},
   "source": [
    "Phase gates are a bit tricky to make as they need two qbits which may not be neighbours. So we also need to specify which bits they act on. I also use naming convention where three indices nmk are used. Meaning is, this gate is kth gate between nth and mth Hadamard. Irritating things is bottom bits are control and top one is acting bit which is usually opposite in diagrams."
   ]
  },
  {
   "cell_type": "code",
   "execution_count": 3,
   "metadata": {},
   "outputs": [
    {
     "name": "stdout",
     "output_type": "stream",
     "text": [
      "Help on class CPSGate in module qcomp.gate:\n",
      "\n",
      "class CPSGate(CGate)\n",
      " |  Controlled Phase Shift Gate\n",
      " |  \n",
      " |  Method resolution order:\n",
      " |      CPSGate\n",
      " |      CGate\n",
      " |      SGate\n",
      " |      Gate\n",
      " |      builtins.object\n",
      " |  \n",
      " |  Methods defined here:\n",
      " |  \n",
      " |  __init__(self, phi, cbit=0, abit=1, qreg_size=2)\n",
      " |      Parameters\n",
      " |      phi: amount of shift\n",
      " |      cbit: control bit\n",
      " |      abit: bit that will it act on\n",
      " |      qreg_size: size of Quantum register\n",
      " |  \n",
      " |  ----------------------------------------------------------------------\n",
      " |  Methods inherited from SGate:\n",
      " |  \n",
      " |  apply(self, qreg)\n",
      " |      Apply the gate to the given register \n",
      " |      Parameters\n",
      " |      -----------\n",
      " |      **qreg** : QReg instance \n",
      " |      \n",
      " |      Returns\n",
      " |      ----------\n",
      " |      new_qreg : QReg object created after transformation\n",
      " |  \n",
      " |  ----------------------------------------------------------------------\n",
      " |  Data descriptors inherited from Gate:\n",
      " |  \n",
      " |  __dict__\n",
      " |      dictionary for instance variables (if defined)\n",
      " |  \n",
      " |  __weakref__\n",
      " |      list of weak references to the object (if defined)\n",
      "\n"
     ]
    }
   ],
   "source": [
    "# remember we can always do this when not sure how things work\n",
    "help(CPSGate)"
   ]
  },
  {
   "cell_type": "code",
   "execution_count": 4,
   "metadata": {},
   "outputs": [],
   "source": [
    "cps010 = CPSGate(np.pi,   1, 0,4)\n",
    "cps120 = CPSGate(np.pi/2, 2, 0,4)\n",
    "cps121 = CPSGate(np.pi,   2, 1,4)\n",
    "cps230 = CPSGate(np.pi/4, 3, 0,4)\n",
    "cps231 = CPSGate(np.pi/2, 3, 1,4)\n",
    "cps232 = CPSGate(np.pi,   3, 2,4)"
   ]
  },
  {
   "cell_type": "markdown",
   "metadata": {},
   "source": [
    "Now we can complete the diagram"
   ]
  },
  {
   "cell_type": "code",
   "execution_count": 5,
   "metadata": {},
   "outputs": [],
   "source": [
    "qft = HChain([H0, cps010, H1, cps120, cps121, H2, cps230, cps231, cps232, H])"
   ]
  },
  {
   "cell_type": "markdown",
   "metadata": {},
   "source": [
    "Now we can prepare any quantum register (4bit) we want and apply QFT to it"
   ]
  },
  {
   "cell_type": "code",
   "execution_count": 6,
   "metadata": {},
   "outputs": [],
   "source": [
    "Q0000 = mk_reg([ZERO]*4)"
   ]
  },
  {
   "cell_type": "code",
   "execution_count": 7,
   "metadata": {},
   "outputs": [
    {
     "data": {
      "text/plain": [
       "0.43+0.00j \t |0000> \n",
       "-0.09-0.00j \t |0001> \n",
       "0.17+0.00j \t |0010> \n",
       "-0.17-0.00j \t |0011> \n",
       "0.34+0.09j \t |0100> \n",
       "-0.17-0.09j \t |0101> \n",
       "0.09+0.17j \t |0110> \n",
       "-0.26-0.17j \t |0111> \n",
       "0.26+0.00j \t |1000> \n",
       "-0.26-0.00j \t |1001> \n",
       "0.17+0.00j \t |1010> \n",
       "-0.17-0.00j \t |1011> \n",
       "0.26+0.09j \t |1100> \n",
       "-0.26-0.09j \t |1101> \n",
       "0.17+0.17j \t |1110> \n",
       "-0.17-0.17j \t |1111> "
      ]
     },
     "execution_count": 7,
     "metadata": {},
     "output_type": "execute_result"
    }
   ],
   "source": [
    "qft.apply(Q0000)"
   ]
  },
  {
   "cell_type": "markdown",
   "metadata": {},
   "source": [
    "# Accuracy check"
   ]
  },
  {
   "cell_type": "markdown",
   "metadata": {},
   "source": [
    "QFT is explained well in https://www.robots.ox.ac.uk/~parg/pubs/qcf.pdf. I ll try to replicate that work. Only change is 3bit system is utilized."
   ]
  },
  {
   "cell_type": "code",
   "execution_count": 56,
   "metadata": {},
   "outputs": [],
   "source": [
    "H0 = VChain([H] + [I]*2)\n",
    "H1 = VChain([I] + [H] + [I])\n",
    "H2 = VChain([I]*2 + [H])\n",
    "\n",
    "cps010 = CPSGate(np.pi,   1, 0,3)\n",
    "cps120 = CPSGate(np.pi/2, 2, 0,3)\n",
    "cps121 = CPSGate(np.pi,   2, 1,3)\n",
    "\n",
    "qft3 = HChain([H0, cps010, cps120, H1, cps121, H2])"
   ]
  },
  {
   "cell_type": "code",
   "execution_count": 57,
   "metadata": {},
   "outputs": [
    {
     "data": {
      "text/plain": [
       "0.00+0.00j \t |000> \n",
       "0.00+0.00j \t |001> \n",
       "0.00+0.00j \t |010> \n",
       "0.71+0.00j \t |011> \n",
       "0.00+0.00j \t |100> \n",
       "0.71+0.00j \t |101> \n",
       "0.00+0.00j \t |110> \n",
       "0.00+0.00j \t |111> "
      ]
     },
     "execution_count": 57,
     "metadata": {},
     "output_type": "execute_result"
    }
   ],
   "source": [
    "from qcomp.gate import CNOT, NOT\n",
    "# psi has two states 101 and 011, these states are entangled (0th and 1s qbit)\n",
    "# so we have to use two bit gates\n",
    "psi = mk_reg([ZERO,ZERO,ONE])\n",
    "psi = HChain([ VChain([H,I,I]), VChain([NOT,I,I]), CNOT(0,1,3), VChain([NOT,I,I]) ]).apply(psi)\n",
    "psi"
   ]
  },
  {
   "cell_type": "code",
   "execution_count": 58,
   "metadata": {},
   "outputs": [
    {
     "data": {
      "text/plain": [
       "0.00+0.00j \t |000> \n",
       "0.00+0.00j \t |001> \n",
       "0.00+0.00j \t |010> \n",
       "0.00+0.00j \t |011> \n",
       "-0.00-0.15j \t |100> \n",
       "0.00+0.15j \t |101> \n",
       "0.31-0.62j \t |110> \n",
       "0.31+0.62j \t |111> "
      ]
     },
     "execution_count": 58,
     "metadata": {},
     "output_type": "execute_result"
    }
   ],
   "source": [
    "qft3.apply(psi)"
   ]
  },
  {
   "cell_type": "code",
   "execution_count": null,
   "metadata": {},
   "outputs": [],
   "source": []
  }
 ],
 "metadata": {
  "kernelspec": {
   "display_name": "Python 3",
   "language": "python",
   "name": "python3"
  },
  "language_info": {
   "codemirror_mode": {
    "name": "ipython",
    "version": 3
   },
   "file_extension": ".py",
   "mimetype": "text/x-python",
   "name": "python",
   "nbconvert_exporter": "python",
   "pygments_lexer": "ipython3",
   "version": "3.4.9"
  }
 },
 "nbformat": 4,
 "nbformat_minor": 2
}
